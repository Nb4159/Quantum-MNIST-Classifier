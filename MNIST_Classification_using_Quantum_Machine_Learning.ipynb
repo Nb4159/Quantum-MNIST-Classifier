{
  "nbformat": 4,
  "nbformat_minor": 0,
  "metadata": {
    "colab": {
      "provenance": [],
      "authorship_tag": "ABX9TyPeeDktaE88AXoOjZRSG/AM",
      "include_colab_link": true
    },
    "kernelspec": {
      "name": "python3",
      "display_name": "Python 3"
    },
    "language_info": {
      "name": "python"
    }
  },
  "cells": [
    {
      "cell_type": "markdown",
      "metadata": {
        "id": "view-in-github",
        "colab_type": "text"
      },
      "source": [
        "<a href=\"https://colab.research.google.com/github/Nb4159/TreeTensorMNISTClassifier/blob/main/MNIST_Classification_using_Quantum_Machine_Learning.ipynb\" target=\"_parent\"><img src=\"https://colab.research.google.com/assets/colab-badge.svg\" alt=\"Open In Colab\"/></a>"
      ]
    },
    {
      "cell_type": "markdown",
      "source": [
        "# Installing dependencies"
      ],
      "metadata": {
        "id": "wfUMhtOZ44H2"
      }
    },
    {
      "cell_type": "code",
      "execution_count": 1,
      "metadata": {
        "colab": {
          "base_uri": "https://localhost:8080/"
        },
        "id": "ZEE9V2UmRH39",
        "outputId": "1c952a76-987e-4136-ab3c-53ebe900c0f9"
      },
      "outputs": [
        {
          "output_type": "stream",
          "name": "stdout",
          "text": [
            "Collecting tensorflow-quantum\n",
            "  Downloading tensorflow_quantum-0.7.3-cp310-cp310-manylinux_2_17_x86_64.manylinux2014_x86_64.whl (12.8 MB)\n",
            "\u001b[2K     \u001b[90m━━━━━━━━━━━━━━━━━━━━━━━━━━━━━━━━━━━━━━━━\u001b[0m \u001b[32m12.8/12.8 MB\u001b[0m \u001b[31m2.9 MB/s\u001b[0m eta \u001b[36m0:00:00\u001b[0m\n",
            "\u001b[?25hCollecting cirq-core==1.3.0 (from tensorflow-quantum)\n",
            "  Downloading cirq_core-1.3.0-py3-none-any.whl (1.8 MB)\n",
            "\u001b[2K     \u001b[90m━━━━━━━━━━━━━━━━━━━━━━━━━━━━━━━━━━━━━━━━\u001b[0m \u001b[32m1.8/1.8 MB\u001b[0m \u001b[31m2.8 MB/s\u001b[0m eta \u001b[36m0:00:00\u001b[0m\n",
            "\u001b[?25hCollecting cirq-google==1.3.0 (from tensorflow-quantum)\n",
            "  Downloading cirq_google-1.3.0-py3-none-any.whl (598 kB)\n",
            "\u001b[2K     \u001b[90m━━━━━━━━━━━━━━━━━━━━━━━━━━━━━━━━━━━━━━━━\u001b[0m \u001b[32m598.8/598.8 kB\u001b[0m \u001b[31m2.8 MB/s\u001b[0m eta \u001b[36m0:00:00\u001b[0m\n",
            "\u001b[?25hCollecting sympy==1.12 (from tensorflow-quantum)\n",
            "  Downloading sympy-1.12-py3-none-any.whl (5.7 MB)\n",
            "\u001b[2K     \u001b[90m━━━━━━━━━━━━━━━━━━━━━━━━━━━━━━━━━━━━━━━━\u001b[0m \u001b[32m5.7/5.7 MB\u001b[0m \u001b[31m3.5 MB/s\u001b[0m eta \u001b[36m0:00:00\u001b[0m\n",
            "\u001b[?25hCollecting duet~=0.2.8 (from cirq-core==1.3.0->tensorflow-quantum)\n",
            "  Downloading duet-0.2.9-py3-none-any.whl (29 kB)\n",
            "Requirement already satisfied: matplotlib~=3.0 in /usr/local/lib/python3.10/dist-packages (from cirq-core==1.3.0->tensorflow-quantum) (3.7.1)\n",
            "Requirement already satisfied: networkx>=2.4 in /usr/local/lib/python3.10/dist-packages (from cirq-core==1.3.0->tensorflow-quantum) (3.3)\n",
            "Requirement already satisfied: numpy~=1.16 in /usr/local/lib/python3.10/dist-packages (from cirq-core==1.3.0->tensorflow-quantum) (1.25.2)\n",
            "Requirement already satisfied: pandas in /usr/local/lib/python3.10/dist-packages (from cirq-core==1.3.0->tensorflow-quantum) (2.0.3)\n",
            "Requirement already satisfied: sortedcontainers~=2.0 in /usr/local/lib/python3.10/dist-packages (from cirq-core==1.3.0->tensorflow-quantum) (2.4.0)\n",
            "Requirement already satisfied: scipy in /usr/local/lib/python3.10/dist-packages (from cirq-core==1.3.0->tensorflow-quantum) (1.11.4)\n",
            "Requirement already satisfied: typing-extensions>=4.2 in /usr/local/lib/python3.10/dist-packages (from cirq-core==1.3.0->tensorflow-quantum) (4.12.2)\n",
            "Requirement already satisfied: tqdm in /usr/local/lib/python3.10/dist-packages (from cirq-core==1.3.0->tensorflow-quantum) (4.66.4)\n",
            "Requirement already satisfied: google-api-core[grpc]>=1.14.0 in /usr/local/lib/python3.10/dist-packages (from cirq-google==1.3.0->tensorflow-quantum) (2.11.1)\n",
            "Requirement already satisfied: proto-plus>=1.20.0 in /usr/local/lib/python3.10/dist-packages (from cirq-google==1.3.0->tensorflow-quantum) (1.24.0)\n",
            "Requirement already satisfied: protobuf>=3.15.0 in /usr/local/lib/python3.10/dist-packages (from cirq-google==1.3.0->tensorflow-quantum) (3.20.3)\n",
            "Requirement already satisfied: mpmath>=0.19 in /usr/local/lib/python3.10/dist-packages (from sympy==1.12->tensorflow-quantum) (1.3.0)\n",
            "Requirement already satisfied: googleapis-common-protos<2.0.dev0,>=1.56.2 in /usr/local/lib/python3.10/dist-packages (from google-api-core[grpc]>=1.14.0->cirq-google==1.3.0->tensorflow-quantum) (1.63.1)\n",
            "Requirement already satisfied: google-auth<3.0.dev0,>=2.14.1 in /usr/local/lib/python3.10/dist-packages (from google-api-core[grpc]>=1.14.0->cirq-google==1.3.0->tensorflow-quantum) (2.27.0)\n",
            "Requirement already satisfied: requests<3.0.0.dev0,>=2.18.0 in /usr/local/lib/python3.10/dist-packages (from google-api-core[grpc]>=1.14.0->cirq-google==1.3.0->tensorflow-quantum) (2.31.0)\n",
            "Requirement already satisfied: grpcio<2.0dev,>=1.33.2 in /usr/local/lib/python3.10/dist-packages (from google-api-core[grpc]>=1.14.0->cirq-google==1.3.0->tensorflow-quantum) (1.64.1)\n",
            "Requirement already satisfied: grpcio-status<2.0.dev0,>=1.33.2 in /usr/local/lib/python3.10/dist-packages (from google-api-core[grpc]>=1.14.0->cirq-google==1.3.0->tensorflow-quantum) (1.48.2)\n",
            "Requirement already satisfied: contourpy>=1.0.1 in /usr/local/lib/python3.10/dist-packages (from matplotlib~=3.0->cirq-core==1.3.0->tensorflow-quantum) (1.2.1)\n",
            "Requirement already satisfied: cycler>=0.10 in /usr/local/lib/python3.10/dist-packages (from matplotlib~=3.0->cirq-core==1.3.0->tensorflow-quantum) (0.12.1)\n",
            "Requirement already satisfied: fonttools>=4.22.0 in /usr/local/lib/python3.10/dist-packages (from matplotlib~=3.0->cirq-core==1.3.0->tensorflow-quantum) (4.53.0)\n",
            "Requirement already satisfied: kiwisolver>=1.0.1 in /usr/local/lib/python3.10/dist-packages (from matplotlib~=3.0->cirq-core==1.3.0->tensorflow-quantum) (1.4.5)\n",
            "Requirement already satisfied: packaging>=20.0 in /usr/local/lib/python3.10/dist-packages (from matplotlib~=3.0->cirq-core==1.3.0->tensorflow-quantum) (24.1)\n",
            "Requirement already satisfied: pillow>=6.2.0 in /usr/local/lib/python3.10/dist-packages (from matplotlib~=3.0->cirq-core==1.3.0->tensorflow-quantum) (9.4.0)\n",
            "Requirement already satisfied: pyparsing>=2.3.1 in /usr/local/lib/python3.10/dist-packages (from matplotlib~=3.0->cirq-core==1.3.0->tensorflow-quantum) (3.1.2)\n",
            "Requirement already satisfied: python-dateutil>=2.7 in /usr/local/lib/python3.10/dist-packages (from matplotlib~=3.0->cirq-core==1.3.0->tensorflow-quantum) (2.8.2)\n",
            "Requirement already satisfied: pytz>=2020.1 in /usr/local/lib/python3.10/dist-packages (from pandas->cirq-core==1.3.0->tensorflow-quantum) (2023.4)\n",
            "Requirement already satisfied: tzdata>=2022.1 in /usr/local/lib/python3.10/dist-packages (from pandas->cirq-core==1.3.0->tensorflow-quantum) (2024.1)\n",
            "Requirement already satisfied: cachetools<6.0,>=2.0.0 in /usr/local/lib/python3.10/dist-packages (from google-auth<3.0.dev0,>=2.14.1->google-api-core[grpc]>=1.14.0->cirq-google==1.3.0->tensorflow-quantum) (5.3.3)\n",
            "Requirement already satisfied: pyasn1-modules>=0.2.1 in /usr/local/lib/python3.10/dist-packages (from google-auth<3.0.dev0,>=2.14.1->google-api-core[grpc]>=1.14.0->cirq-google==1.3.0->tensorflow-quantum) (0.4.0)\n",
            "Requirement already satisfied: rsa<5,>=3.1.4 in /usr/local/lib/python3.10/dist-packages (from google-auth<3.0.dev0,>=2.14.1->google-api-core[grpc]>=1.14.0->cirq-google==1.3.0->tensorflow-quantum) (4.9)\n",
            "Requirement already satisfied: six>=1.5 in /usr/local/lib/python3.10/dist-packages (from python-dateutil>=2.7->matplotlib~=3.0->cirq-core==1.3.0->tensorflow-quantum) (1.16.0)\n",
            "Requirement already satisfied: charset-normalizer<4,>=2 in /usr/local/lib/python3.10/dist-packages (from requests<3.0.0.dev0,>=2.18.0->google-api-core[grpc]>=1.14.0->cirq-google==1.3.0->tensorflow-quantum) (3.3.2)\n",
            "Requirement already satisfied: idna<4,>=2.5 in /usr/local/lib/python3.10/dist-packages (from requests<3.0.0.dev0,>=2.18.0->google-api-core[grpc]>=1.14.0->cirq-google==1.3.0->tensorflow-quantum) (3.7)\n",
            "Requirement already satisfied: urllib3<3,>=1.21.1 in /usr/local/lib/python3.10/dist-packages (from requests<3.0.0.dev0,>=2.18.0->google-api-core[grpc]>=1.14.0->cirq-google==1.3.0->tensorflow-quantum) (2.0.7)\n",
            "Requirement already satisfied: certifi>=2017.4.17 in /usr/local/lib/python3.10/dist-packages (from requests<3.0.0.dev0,>=2.18.0->google-api-core[grpc]>=1.14.0->cirq-google==1.3.0->tensorflow-quantum) (2024.6.2)\n",
            "Requirement already satisfied: pyasn1<0.7.0,>=0.4.6 in /usr/local/lib/python3.10/dist-packages (from pyasn1-modules>=0.2.1->google-auth<3.0.dev0,>=2.14.1->google-api-core[grpc]>=1.14.0->cirq-google==1.3.0->tensorflow-quantum) (0.6.0)\n",
            "Installing collected packages: sympy, duet, cirq-core, cirq-google, tensorflow-quantum\n",
            "  Attempting uninstall: sympy\n",
            "    Found existing installation: sympy 1.12.1\n",
            "    Uninstalling sympy-1.12.1:\n",
            "      Successfully uninstalled sympy-1.12.1\n",
            "\u001b[31mERROR: pip's dependency resolver does not currently take into account all the packages that are installed. This behaviour is the source of the following dependency conflicts.\n",
            "torch 2.3.0+cu121 requires nvidia-cublas-cu12==12.1.3.1; platform_system == \"Linux\" and platform_machine == \"x86_64\", which is not installed.\n",
            "torch 2.3.0+cu121 requires nvidia-cuda-cupti-cu12==12.1.105; platform_system == \"Linux\" and platform_machine == \"x86_64\", which is not installed.\n",
            "torch 2.3.0+cu121 requires nvidia-cuda-nvrtc-cu12==12.1.105; platform_system == \"Linux\" and platform_machine == \"x86_64\", which is not installed.\n",
            "torch 2.3.0+cu121 requires nvidia-cuda-runtime-cu12==12.1.105; platform_system == \"Linux\" and platform_machine == \"x86_64\", which is not installed.\n",
            "torch 2.3.0+cu121 requires nvidia-cudnn-cu12==8.9.2.26; platform_system == \"Linux\" and platform_machine == \"x86_64\", which is not installed.\n",
            "torch 2.3.0+cu121 requires nvidia-cufft-cu12==11.0.2.54; platform_system == \"Linux\" and platform_machine == \"x86_64\", which is not installed.\n",
            "torch 2.3.0+cu121 requires nvidia-curand-cu12==10.3.2.106; platform_system == \"Linux\" and platform_machine == \"x86_64\", which is not installed.\n",
            "torch 2.3.0+cu121 requires nvidia-cusolver-cu12==11.4.5.107; platform_system == \"Linux\" and platform_machine == \"x86_64\", which is not installed.\n",
            "torch 2.3.0+cu121 requires nvidia-cusparse-cu12==12.1.0.106; platform_system == \"Linux\" and platform_machine == \"x86_64\", which is not installed.\n",
            "torch 2.3.0+cu121 requires nvidia-nccl-cu12==2.20.5; platform_system == \"Linux\" and platform_machine == \"x86_64\", which is not installed.\n",
            "torch 2.3.0+cu121 requires nvidia-nvtx-cu12==12.1.105; platform_system == \"Linux\" and platform_machine == \"x86_64\", which is not installed.\u001b[0m\u001b[31m\n",
            "\u001b[0mSuccessfully installed cirq-core-1.3.0 cirq-google-1.3.0 duet-0.2.9 sympy-1.12 tensorflow-quantum-0.7.3\n"
          ]
        }
      ],
      "source": [
        "! pip install tensorflow-quantum"
      ]
    },
    {
      "cell_type": "code",
      "source": [
        "!pip install cirq"
      ],
      "metadata": {
        "colab": {
          "base_uri": "https://localhost:8080/"
        },
        "id": "PPMlxPkCRN3w",
        "outputId": "c9f98ca6-a3a1-41bc-ca98-9a544543191d"
      },
      "execution_count": 4,
      "outputs": [
        {
          "output_type": "stream",
          "name": "stdout",
          "text": [
            "Requirement already satisfied: cirq in /usr/local/lib/python3.10/dist-packages (1.4.1)\n",
            "Requirement already satisfied: cirq-aqt==1.4.1 in /usr/local/lib/python3.10/dist-packages (from cirq) (1.4.1)\n",
            "Requirement already satisfied: cirq-core==1.4.1 in /usr/local/lib/python3.10/dist-packages (from cirq) (1.4.1)\n",
            "Requirement already satisfied: cirq-google==1.4.1 in /usr/local/lib/python3.10/dist-packages (from cirq) (1.4.1)\n",
            "Requirement already satisfied: cirq-ionq==1.4.1 in /usr/local/lib/python3.10/dist-packages (from cirq) (1.4.1)\n",
            "Requirement already satisfied: cirq-pasqal==1.4.1 in /usr/local/lib/python3.10/dist-packages (from cirq) (1.4.1)\n",
            "Requirement already satisfied: cirq-rigetti==1.4.1 in /usr/local/lib/python3.10/dist-packages (from cirq) (1.4.1)\n",
            "Requirement already satisfied: cirq-web==1.4.1 in /usr/local/lib/python3.10/dist-packages (from cirq) (1.4.1)\n",
            "Requirement already satisfied: requests~=2.18 in /usr/local/lib/python3.10/dist-packages (from cirq-aqt==1.4.1->cirq) (2.31.0)\n",
            "Requirement already satisfied: attrs>=21.3.0 in /usr/local/lib/python3.10/dist-packages (from cirq-core==1.4.1->cirq) (23.2.0)\n",
            "Requirement already satisfied: duet>=0.2.8 in /usr/local/lib/python3.10/dist-packages (from cirq-core==1.4.1->cirq) (0.2.9)\n",
            "Requirement already satisfied: matplotlib~=3.0 in /usr/local/lib/python3.10/dist-packages (from cirq-core==1.4.1->cirq) (3.7.1)\n",
            "Requirement already satisfied: networkx>=2.4 in /usr/local/lib/python3.10/dist-packages (from cirq-core==1.4.1->cirq) (3.3)\n",
            "Requirement already satisfied: numpy~=1.22 in /usr/local/lib/python3.10/dist-packages (from cirq-core==1.4.1->cirq) (1.25.2)\n",
            "Requirement already satisfied: pandas in /usr/local/lib/python3.10/dist-packages (from cirq-core==1.4.1->cirq) (2.0.3)\n",
            "Requirement already satisfied: sortedcontainers~=2.0 in /usr/local/lib/python3.10/dist-packages (from cirq-core==1.4.1->cirq) (2.4.0)\n",
            "Requirement already satisfied: scipy~=1.0 in /usr/local/lib/python3.10/dist-packages (from cirq-core==1.4.1->cirq) (1.11.4)\n",
            "Requirement already satisfied: sympy in /usr/local/lib/python3.10/dist-packages (from cirq-core==1.4.1->cirq) (1.12)\n",
            "Requirement already satisfied: typing-extensions>=4.2 in /usr/local/lib/python3.10/dist-packages (from cirq-core==1.4.1->cirq) (4.12.2)\n",
            "Requirement already satisfied: tqdm in /usr/local/lib/python3.10/dist-packages (from cirq-core==1.4.1->cirq) (4.66.4)\n",
            "Requirement already satisfied: google-api-core[grpc]>=1.14.0 in /usr/local/lib/python3.10/dist-packages (from cirq-google==1.4.1->cirq) (2.11.1)\n",
            "Requirement already satisfied: proto-plus>=1.20.0 in /usr/local/lib/python3.10/dist-packages (from cirq-google==1.4.1->cirq) (1.24.0)\n",
            "Requirement already satisfied: protobuf<5.0.0,>=3.15.0 in /usr/local/lib/python3.10/dist-packages (from cirq-google==1.4.1->cirq) (3.20.3)\n",
            "Requirement already satisfied: pyquil<5.0.0,>=4.11.0 in /usr/local/lib/python3.10/dist-packages (from cirq-rigetti==1.4.1->cirq) (4.11.0)\n",
            "Requirement already satisfied: googleapis-common-protos<2.0.dev0,>=1.56.2 in /usr/local/lib/python3.10/dist-packages (from google-api-core[grpc]>=1.14.0->cirq-google==1.4.1->cirq) (1.63.1)\n",
            "Requirement already satisfied: google-auth<3.0.dev0,>=2.14.1 in /usr/local/lib/python3.10/dist-packages (from google-api-core[grpc]>=1.14.0->cirq-google==1.4.1->cirq) (2.27.0)\n",
            "Requirement already satisfied: grpcio<2.0dev,>=1.33.2 in /usr/local/lib/python3.10/dist-packages (from google-api-core[grpc]>=1.14.0->cirq-google==1.4.1->cirq) (1.64.1)\n",
            "Requirement already satisfied: grpcio-status<2.0.dev0,>=1.33.2 in /usr/local/lib/python3.10/dist-packages (from google-api-core[grpc]>=1.14.0->cirq-google==1.4.1->cirq) (1.48.2)\n",
            "Requirement already satisfied: contourpy>=1.0.1 in /usr/local/lib/python3.10/dist-packages (from matplotlib~=3.0->cirq-core==1.4.1->cirq) (1.2.1)\n",
            "Requirement already satisfied: cycler>=0.10 in /usr/local/lib/python3.10/dist-packages (from matplotlib~=3.0->cirq-core==1.4.1->cirq) (0.12.1)\n",
            "Requirement already satisfied: fonttools>=4.22.0 in /usr/local/lib/python3.10/dist-packages (from matplotlib~=3.0->cirq-core==1.4.1->cirq) (4.53.0)\n",
            "Requirement already satisfied: kiwisolver>=1.0.1 in /usr/local/lib/python3.10/dist-packages (from matplotlib~=3.0->cirq-core==1.4.1->cirq) (1.4.5)\n",
            "Requirement already satisfied: packaging>=20.0 in /usr/local/lib/python3.10/dist-packages (from matplotlib~=3.0->cirq-core==1.4.1->cirq) (23.2)\n",
            "Requirement already satisfied: pillow>=6.2.0 in /usr/local/lib/python3.10/dist-packages (from matplotlib~=3.0->cirq-core==1.4.1->cirq) (9.4.0)\n",
            "Requirement already satisfied: pyparsing>=2.3.1 in /usr/local/lib/python3.10/dist-packages (from matplotlib~=3.0->cirq-core==1.4.1->cirq) (3.1.2)\n",
            "Requirement already satisfied: python-dateutil>=2.7 in /usr/local/lib/python3.10/dist-packages (from matplotlib~=3.0->cirq-core==1.4.1->cirq) (2.8.2)\n",
            "Requirement already satisfied: deprecated<2.0.0,>=1.2.14 in /usr/local/lib/python3.10/dist-packages (from pyquil<5.0.0,>=4.11.0->cirq-rigetti==1.4.1->cirq) (1.2.14)\n",
            "Requirement already satisfied: matplotlib-inline<0.2.0,>=0.1.7 in /usr/local/lib/python3.10/dist-packages (from pyquil<5.0.0,>=4.11.0->cirq-rigetti==1.4.1->cirq) (0.1.7)\n",
            "Requirement already satisfied: qcs-sdk-python==0.17.9 in /usr/local/lib/python3.10/dist-packages (from pyquil<5.0.0,>=4.11.0->cirq-rigetti==1.4.1->cirq) (0.17.9)\n",
            "Requirement already satisfied: rpcq<4.0.0,>=3.11.0 in /usr/local/lib/python3.10/dist-packages (from pyquil<5.0.0,>=4.11.0->cirq-rigetti==1.4.1->cirq) (3.11.0)\n",
            "Requirement already satisfied: types-deprecated<2.0.0.0,>=1.2.9.3 in /usr/local/lib/python3.10/dist-packages (from pyquil<5.0.0,>=4.11.0->cirq-rigetti==1.4.1->cirq) (1.2.9.20240311)\n",
            "Requirement already satisfied: quil==0.10.0 in /usr/local/lib/python3.10/dist-packages (from qcs-sdk-python==0.17.9->pyquil<5.0.0,>=4.11.0->cirq-rigetti==1.4.1->cirq) (0.10.0)\n",
            "Requirement already satisfied: charset-normalizer<4,>=2 in /usr/local/lib/python3.10/dist-packages (from requests~=2.18->cirq-aqt==1.4.1->cirq) (3.3.2)\n",
            "Requirement already satisfied: idna<4,>=2.5 in /usr/local/lib/python3.10/dist-packages (from requests~=2.18->cirq-aqt==1.4.1->cirq) (3.7)\n",
            "Requirement already satisfied: urllib3<3,>=1.21.1 in /usr/local/lib/python3.10/dist-packages (from requests~=2.18->cirq-aqt==1.4.1->cirq) (2.0.7)\n",
            "Requirement already satisfied: certifi>=2017.4.17 in /usr/local/lib/python3.10/dist-packages (from requests~=2.18->cirq-aqt==1.4.1->cirq) (2024.6.2)\n",
            "Requirement already satisfied: pytz>=2020.1 in /usr/local/lib/python3.10/dist-packages (from pandas->cirq-core==1.4.1->cirq) (2023.4)\n",
            "Requirement already satisfied: tzdata>=2022.1 in /usr/local/lib/python3.10/dist-packages (from pandas->cirq-core==1.4.1->cirq) (2024.1)\n",
            "Requirement already satisfied: mpmath>=0.19 in /usr/local/lib/python3.10/dist-packages (from sympy->cirq-core==1.4.1->cirq) (1.3.0)\n",
            "Requirement already satisfied: wrapt<2,>=1.10 in /usr/local/lib/python3.10/dist-packages (from deprecated<2.0.0,>=1.2.14->pyquil<5.0.0,>=4.11.0->cirq-rigetti==1.4.1->cirq) (1.14.1)\n",
            "Requirement already satisfied: cachetools<6.0,>=2.0.0 in /usr/local/lib/python3.10/dist-packages (from google-auth<3.0.dev0,>=2.14.1->google-api-core[grpc]>=1.14.0->cirq-google==1.4.1->cirq) (5.3.3)\n",
            "Requirement already satisfied: pyasn1-modules>=0.2.1 in /usr/local/lib/python3.10/dist-packages (from google-auth<3.0.dev0,>=2.14.1->google-api-core[grpc]>=1.14.0->cirq-google==1.4.1->cirq) (0.4.0)\n",
            "Requirement already satisfied: rsa<5,>=3.1.4 in /usr/local/lib/python3.10/dist-packages (from google-auth<3.0.dev0,>=2.14.1->google-api-core[grpc]>=1.14.0->cirq-google==1.4.1->cirq) (4.9)\n",
            "Requirement already satisfied: traitlets in /usr/local/lib/python3.10/dist-packages (from matplotlib-inline<0.2.0,>=0.1.7->pyquil<5.0.0,>=4.11.0->cirq-rigetti==1.4.1->cirq) (5.7.1)\n",
            "Requirement already satisfied: six>=1.5 in /usr/local/lib/python3.10/dist-packages (from python-dateutil>=2.7->matplotlib~=3.0->cirq-core==1.4.1->cirq) (1.16.0)\n",
            "Requirement already satisfied: msgpack<2.0,>=0.6 in /usr/local/lib/python3.10/dist-packages (from rpcq<4.0.0,>=3.11.0->pyquil<5.0.0,>=4.11.0->cirq-rigetti==1.4.1->cirq) (1.0.8)\n",
            "Requirement already satisfied: python-rapidjson in /usr/local/lib/python3.10/dist-packages (from rpcq<4.0.0,>=3.11.0->pyquil<5.0.0,>=4.11.0->cirq-rigetti==1.4.1->cirq) (1.18)\n",
            "Requirement already satisfied: pyzmq>=17 in /usr/local/lib/python3.10/dist-packages (from rpcq<4.0.0,>=3.11.0->pyquil<5.0.0,>=4.11.0->cirq-rigetti==1.4.1->cirq) (24.0.1)\n",
            "Requirement already satisfied: ruamel.yaml in /usr/local/lib/python3.10/dist-packages (from rpcq<4.0.0,>=3.11.0->pyquil<5.0.0,>=4.11.0->cirq-rigetti==1.4.1->cirq) (0.18.6)\n",
            "Requirement already satisfied: pyasn1<0.7.0,>=0.4.6 in /usr/local/lib/python3.10/dist-packages (from pyasn1-modules>=0.2.1->google-auth<3.0.dev0,>=2.14.1->google-api-core[grpc]>=1.14.0->cirq-google==1.4.1->cirq) (0.6.0)\n",
            "Requirement already satisfied: ruamel.yaml.clib>=0.2.7 in /usr/local/lib/python3.10/dist-packages (from ruamel.yaml->rpcq<4.0.0,>=3.11.0->pyquil<5.0.0,>=4.11.0->cirq-rigetti==1.4.1->cirq) (0.2.8)\n"
          ]
        }
      ]
    },
    {
      "cell_type": "markdown",
      "source": [
        "# Data"
      ],
      "metadata": {
        "id": "9A5AZlT3BNbm"
      }
    },
    {
      "cell_type": "code",
      "source": [
        "import tensorflow as tf\n",
        "import tensorflow_quantum as tfq\n",
        "import cirq\n",
        "import sympy\n",
        "import numpy as np\n",
        "from sklearn.decomposition import PCA\n",
        "from sklearn.preprocessing import MinMaxScaler\n",
        "from tensorflow.keras.datasets import mnist\n",
        "\n",
        "(x_train, y_train), (x_test, y_test) = mnist.load_data()\n",
        "\n",
        "# Here I keep only digits 0-3\n",
        "train_mask = (y_train < 4)\n",
        "test_mask = (y_test < 4)\n",
        "x_train, y_train = x_train[train_mask], y_train[train_mask]\n",
        "x_test, y_test = x_test[test_mask], y_test[test_mask]\n",
        "x_train = x_train.reshape(-1, 784).astype('float32') / 255.0\n",
        "x_test = x_test.reshape(-1, 784).astype('float32') / 255.0\n",
        "\n",
        "# Dimensionality reduction using PCA\n",
        "pca = PCA(n_components=8)\n",
        "x_train_pca = pca.fit_transform(x_train)\n",
        "x_test_pca = pca.transform(x_test)\n",
        "\n",
        "# Scale features\n",
        "scaler = MinMaxScaler()\n",
        "x_train_scaled = scaler.fit_transform(x_train_pca)\n",
        "x_test_scaled = scaler.transform(x_test_pca)\n",
        "\n",
        "x_train_scaled\n",
        "\n"
      ],
      "metadata": {
        "colab": {
          "base_uri": "https://localhost:8080/"
        },
        "id": "lEthMTOFRShH",
        "outputId": "9ae7c908-c1ac-49ba-89f3-b09793a7fb63"
      },
      "execution_count": 19,
      "outputs": [
        {
          "output_type": "execute_result",
          "data": {
            "text/plain": [
              "array([[0.6575419 , 0.51135594, 0.15022105, ..., 0.52434343, 0.3401515 ,\n",
              "        0.46907204],\n",
              "       [0.08702628, 0.66288   , 0.42997935, ..., 0.50262547, 0.5098418 ,\n",
              "        0.42603576],\n",
              "       [0.39441848, 0.7450557 , 0.47534683, ..., 0.39494413, 0.70676136,\n",
              "        0.47028592],\n",
              "       ...,\n",
              "       [0.30617628, 0.81780624, 0.2842151 , ..., 0.19110218, 0.4387774 ,\n",
              "        0.3972071 ],\n",
              "       [0.09423772, 0.5708606 , 0.31920433, ..., 0.30449772, 0.46901459,\n",
              "        0.37140912],\n",
              "       [0.37251416, 0.4960603 , 0.61925966, ..., 0.18964401, 0.31799507,\n",
              "        0.6993796 ]], dtype=float32)"
            ]
          },
          "metadata": {},
          "execution_count": 19
        }
      ]
    },
    {
      "cell_type": "markdown",
      "source": [
        "# Amplitude Encoding\n",
        "This is like making an embedding to feed data to the classifier in appropriate way. Amplitude Encoding encodes 2^n features into amplitude vector of n qubits."
      ],
      "metadata": {
        "id": "bLD18nn55JIk"
      }
    },
    {
      "cell_type": "markdown",
      "source": [
        "# Tree Tensor Network[(TTN)](https://https://arxiv.org/abs/1803.11537)\n",
        "TTNs are a type of tensor network that organizes tensors in a tree-like structure. They're used to represent quantum states efficiently.\n",
        "Some of its features are:\n",
        "\n",
        "**Hierarchical structure**: Information flows from the bottom (input) to the top (output).\n",
        "\n",
        "**Logarithmic depth**: The number of layers scales logarithmically with the number of input qubits.\n",
        "\n",
        "**Entanglement structure**: TTNs can capture short-range entanglement well but may struggle with long-range entanglement.\n",
        "\n"
      ],
      "metadata": {
        "id": "zdK-WLU39SWe"
      }
    },
    {
      "cell_type": "code",
      "source": [
        "# Amplitude encoding\n",
        "def amplitude_encode(features):\n",
        "    qubits = cirq.GridQubit.rect(1, 8)\n",
        "    circuit = cirq.Circuit()\n",
        "    for i, feature in enumerate(features):\n",
        "        circuit.append(cirq.ry(np.arccos(feature) * 2)(qubits[i]))\n",
        "    return circuit\n",
        "\n",
        "x_train_circuits = [amplitude_encode(x) for x in x_train_scaled]\n",
        "x_test_circuits = [amplitude_encode(x) for x in x_test_scaled]\n",
        "\n",
        "# Define the TTN model\n",
        "def create_ttn_model():\n",
        "    qubits = cirq.GridQubit.rect(1, 8)\n",
        "    circuit = cirq.Circuit()\n",
        "\n",
        "    # First layer\n",
        "    for i in range(0, 8, 2):\n",
        "        circuit.append(cirq.CNOT(qubits[i], qubits[i+1]))\n",
        "        circuit.append(cirq.ry(sympy.Symbol(f'θ_{i}'))(qubits[i]))\n",
        "        circuit.append(cirq.ry(sympy.Symbol(f'θ_{i+1}'))(qubits[i+1]))\n",
        "\n",
        "    # Second layer\n",
        "    for i in range(0, 8, 4):\n",
        "        circuit.append(cirq.CNOT(qubits[i], qubits[i+2]))\n",
        "        circuit.append(cirq.ry(sympy.Symbol(f'θ_{i+8}'))(qubits[i]))\n",
        "        circuit.append(cirq.ry(sympy.Symbol(f'θ_{i+9}'))(qubits[i+2]))\n",
        "\n",
        "    # Third layer\n",
        "    circuit.append(cirq.CNOT(qubits[0], qubits[4]))\n",
        "    circuit.append(cirq.ry(sympy.Symbol('θ_16'))(qubits[0]))\n",
        "    circuit.append(cirq.ry(sympy.Symbol('θ_17'))(qubits[4]))\n",
        "\n",
        "    # Measurement\n",
        "    circuit.append(cirq.measure(qubits[0], qubits[4], key='m'))\n",
        "\n",
        "    readout_ops = [cirq.Z(qubits[0]), cirq.Z(qubits[4])]  # Readout operators\n",
        "\n",
        "    pqc = tfq.layers.PQC(circuit, readout_ops)\n",
        "    input_tensor = tf.keras.Input(shape=(), dtype=tf.string)\n",
        "    output = pqc(input_tensor)\n",
        "    output = tf.keras.layers.Dense(4, activation='softmax')(output)  # 4 output classes\n",
        "\n",
        "    model = tf.keras.Model(inputs=[input_tensor], outputs=[output])\n",
        "\n",
        "    return model, circuit\n",
        "\n",
        "ttn_model,qc = create_ttn_model()\n",
        "optimizer = tf.keras.optimizers.Adam(learning_rate=0.01)\n",
        "loss = tf.keras.losses.SparseCategoricalCrossentropy(from_logits=True)\n",
        "ttn_model.compile(optimizer=optimizer, loss=loss, metrics=['accuracy'])\n",
        "\n",
        "\n"
      ],
      "metadata": {
        "colab": {
          "base_uri": "https://localhost:8080/"
        },
        "id": "s9TOypllRqvl",
        "outputId": "af334962-e84e-493b-86c0-9982da9ad336"
      },
      "execution_count": 20,
      "outputs": [
        {
          "output_type": "stream",
          "name": "stderr",
          "text": [
            "<ipython-input-20-ee18192b752c>:6: RuntimeWarning: invalid value encountered in arccos\n",
            "  circuit.append(cirq.ry(np.arccos(feature) * 2)(qubits[i]))\n",
            "/usr/local/lib/python3.10/dist-packages/keras/src/initializers/initializers.py:120: UserWarning: The initializer RandomUniform is unseeded and being called multiple times, which will return identical values each time (even if the initializer is unseeded). Please update your code to provide a seed to the initializer, or avoid using the same initializer instance more than once.\n",
            "  warnings.warn(\n"
          ]
        }
      ]
    },
    {
      "cell_type": "code",
      "source": [
        "from tensorflow.keras.utils import plot_model\n",
        "import os\n",
        "plot_model(ttn_model, to_file='ttn_model.png', show_shapes=True, show_layer_names=True)\n",
        "\n",
        "circuit_diagram = cirq.Circuit(qc)\n",
        "print(circuit_diagram)\n"
      ],
      "metadata": {
        "colab": {
          "base_uri": "https://localhost:8080/"
        },
        "id": "YmiB6FveUrAa",
        "outputId": "1f2227c7-0186-4cbb-8d4f-6e44b793a40a"
      },
      "execution_count": 21,
      "outputs": [
        {
          "output_type": "stream",
          "name": "stdout",
          "text": [
            "(0, 0): ───@───Ry(θ_0)───@───Ry(θ_8)────@───Ry(θ_16)───M('m')───\n",
            "           │             │              │              │\n",
            "(0, 1): ───X───Ry(θ_1)───┼──────────────┼──────────────┼────────\n",
            "                         │              │              │\n",
            "(0, 2): ───@───Ry(θ_2)───X───Ry(θ_9)────┼──────────────┼────────\n",
            "           │                            │              │\n",
            "(0, 3): ───X───Ry(θ_3)──────────────────┼──────────────┼────────\n",
            "                                        │              │\n",
            "(0, 4): ───@───Ry(θ_4)───@───Ry(θ_12)───X───Ry(θ_17)───M────────\n",
            "           │             │\n",
            "(0, 5): ───X───Ry(θ_5)───┼──────────────────────────────────────\n",
            "                         │\n",
            "(0, 6): ───@───Ry(θ_6)───X───Ry(θ_13)───────────────────────────\n",
            "           │\n",
            "(0, 7): ───X───Ry(θ_7)──────────────────────────────────────────\n"
          ]
        }
      ]
    },
    {
      "cell_type": "markdown",
      "source": [
        "As we can see our neural network is in the form of a tree."
      ],
      "metadata": {
        "id": "o01sHVB6AcjE"
      }
    },
    {
      "cell_type": "code",
      "source": [
        "x_train_tfq = tfq.convert_to_tensor(x_train_circuits)\n",
        "x_test_tfq = tfq.convert_to_tensor(x_test_circuits)\n",
        "\n",
        "history = ttn_model.fit(\n",
        "    x_train_tfq, y_train,\n",
        "    batch_size=32,\n",
        "    epochs=50,\n",
        "    validation_split=0.2,\n",
        "    verbose=1\n",
        ")\n",
        "\n",
        "\n",
        "test_loss, test_accuracy = ttn_model.evaluate(x_test_tfq, y_test)\n",
        "print(f\"Test accuracy: {test_accuracy:.4f}\")"
      ],
      "metadata": {
        "colab": {
          "base_uri": "https://localhost:8080/"
        },
        "id": "s5V4BPCAS4Wi",
        "outputId": "2e1f7404-b856-4105-e14f-f477577e4f99"
      },
      "execution_count": 22,
      "outputs": [
        {
          "output_type": "stream",
          "name": "stdout",
          "text": [
            "Epoch 1/50\n"
          ]
        },
        {
          "output_type": "stream",
          "name": "stderr",
          "text": [
            "/usr/local/lib/python3.10/dist-packages/keras/src/backend.py:5727: UserWarning: \"`sparse_categorical_crossentropy` received `from_logits=True`, but the `output` argument was produced by a Softmax activation and thus does not represent logits. Was this intended?\n",
            "  output, from_logits = _get_logits(\n"
          ]
        },
        {
          "output_type": "stream",
          "name": "stdout",
          "text": [
            "619/619 [==============================] - 50s 78ms/step - loss: nan - accuracy: 0.3111 - val_loss: nan - val_accuracy: 0.2426\n",
            "Epoch 2/50\n",
            "619/619 [==============================] - 47s 76ms/step - loss: nan - accuracy: 0.2384 - val_loss: nan - val_accuracy: 0.2426\n",
            "Epoch 3/50\n",
            "619/619 [==============================] - 46s 75ms/step - loss: nan - accuracy: 0.2384 - val_loss: nan - val_accuracy: 0.2426\n",
            "Epoch 4/50\n",
            "619/619 [==============================] - 45s 73ms/step - loss: nan - accuracy: 0.2384 - val_loss: nan - val_accuracy: 0.2426\n",
            "Epoch 5/50\n",
            "619/619 [==============================] - 47s 76ms/step - loss: nan - accuracy: 0.2384 - val_loss: nan - val_accuracy: 0.2426\n",
            "Epoch 6/50\n",
            "619/619 [==============================] - 52s 84ms/step - loss: nan - accuracy: 0.2384 - val_loss: nan - val_accuracy: 0.2426\n",
            "Epoch 7/50\n",
            "619/619 [==============================] - 46s 74ms/step - loss: nan - accuracy: 0.2384 - val_loss: nan - val_accuracy: 0.2426\n",
            "Epoch 8/50\n",
            "619/619 [==============================] - 52s 84ms/step - loss: nan - accuracy: 0.2384 - val_loss: nan - val_accuracy: 0.2426\n",
            "Epoch 9/50\n",
            "619/619 [==============================] - 48s 77ms/step - loss: nan - accuracy: 0.2384 - val_loss: nan - val_accuracy: 0.2426\n",
            "Epoch 10/50\n",
            "619/619 [==============================] - 47s 76ms/step - loss: nan - accuracy: 0.2384 - val_loss: nan - val_accuracy: 0.2426\n",
            "Epoch 11/50\n",
            "619/619 [==============================] - 52s 85ms/step - loss: nan - accuracy: 0.2384 - val_loss: nan - val_accuracy: 0.2426\n",
            "Epoch 12/50\n",
            "619/619 [==============================] - 52s 83ms/step - loss: nan - accuracy: 0.2384 - val_loss: nan - val_accuracy: 0.2426\n",
            "Epoch 13/50\n",
            "619/619 [==============================] - 52s 83ms/step - loss: nan - accuracy: 0.2384 - val_loss: nan - val_accuracy: 0.2426\n",
            "Epoch 14/50\n",
            "619/619 [==============================] - 47s 76ms/step - loss: nan - accuracy: 0.2384 - val_loss: nan - val_accuracy: 0.2426\n",
            "Epoch 15/50\n",
            "619/619 [==============================] - 52s 84ms/step - loss: nan - accuracy: 0.2384 - val_loss: nan - val_accuracy: 0.2426\n",
            "Epoch 16/50\n",
            "619/619 [==============================] - 45s 73ms/step - loss: nan - accuracy: 0.2384 - val_loss: nan - val_accuracy: 0.2426\n",
            "Epoch 17/50\n",
            "619/619 [==============================] - 46s 75ms/step - loss: nan - accuracy: 0.2384 - val_loss: nan - val_accuracy: 0.2426\n",
            "Epoch 18/50\n",
            "619/619 [==============================] - 51s 83ms/step - loss: nan - accuracy: 0.2384 - val_loss: nan - val_accuracy: 0.2426\n",
            "Epoch 19/50\n",
            "619/619 [==============================] - 49s 80ms/step - loss: nan - accuracy: 0.2384 - val_loss: nan - val_accuracy: 0.2426\n",
            "Epoch 20/50\n",
            "619/619 [==============================] - 50s 81ms/step - loss: nan - accuracy: 0.2384 - val_loss: nan - val_accuracy: 0.2426\n",
            "Epoch 21/50\n",
            "619/619 [==============================] - 50s 81ms/step - loss: nan - accuracy: 0.2384 - val_loss: nan - val_accuracy: 0.2426\n",
            "Epoch 22/50\n",
            "619/619 [==============================] - 46s 75ms/step - loss: nan - accuracy: 0.2384 - val_loss: nan - val_accuracy: 0.2426\n",
            "Epoch 23/50\n",
            "619/619 [==============================] - 51s 82ms/step - loss: nan - accuracy: 0.2384 - val_loss: nan - val_accuracy: 0.2426\n",
            "Epoch 24/50\n",
            "619/619 [==============================] - 47s 76ms/step - loss: nan - accuracy: 0.2384 - val_loss: nan - val_accuracy: 0.2426\n",
            "Epoch 25/50\n",
            "619/619 [==============================] - 46s 74ms/step - loss: nan - accuracy: 0.2384 - val_loss: nan - val_accuracy: 0.2426\n",
            "Epoch 26/50\n",
            "619/619 [==============================] - 47s 76ms/step - loss: nan - accuracy: 0.2384 - val_loss: nan - val_accuracy: 0.2426\n",
            "Epoch 27/50\n",
            "619/619 [==============================] - 46s 75ms/step - loss: nan - accuracy: 0.2384 - val_loss: nan - val_accuracy: 0.2426\n",
            "Epoch 28/50\n",
            "619/619 [==============================] - 51s 82ms/step - loss: nan - accuracy: 0.2384 - val_loss: nan - val_accuracy: 0.2426\n",
            "Epoch 29/50\n",
            "619/619 [==============================] - 46s 74ms/step - loss: nan - accuracy: 0.2384 - val_loss: nan - val_accuracy: 0.2426\n",
            "Epoch 30/50\n",
            "619/619 [==============================] - 52s 84ms/step - loss: nan - accuracy: 0.2384 - val_loss: nan - val_accuracy: 0.2426\n",
            "Epoch 31/50\n",
            "619/619 [==============================] - 46s 75ms/step - loss: nan - accuracy: 0.2384 - val_loss: nan - val_accuracy: 0.2426\n",
            "Epoch 32/50\n",
            "619/619 [==============================] - 46s 75ms/step - loss: nan - accuracy: 0.2384 - val_loss: nan - val_accuracy: 0.2426\n",
            "Epoch 33/50\n",
            "619/619 [==============================] - 51s 83ms/step - loss: nan - accuracy: 0.2384 - val_loss: nan - val_accuracy: 0.2426\n",
            "Epoch 34/50\n",
            "619/619 [==============================] - 46s 74ms/step - loss: nan - accuracy: 0.2384 - val_loss: nan - val_accuracy: 0.2426\n",
            "Epoch 35/50\n",
            "619/619 [==============================] - 46s 75ms/step - loss: nan - accuracy: 0.2384 - val_loss: nan - val_accuracy: 0.2426\n",
            "Epoch 36/50\n",
            "619/619 [==============================] - 51s 83ms/step - loss: nan - accuracy: 0.2384 - val_loss: nan - val_accuracy: 0.2426\n",
            "Epoch 37/50\n",
            "619/619 [==============================] - 50s 81ms/step - loss: nan - accuracy: 0.2384 - val_loss: nan - val_accuracy: 0.2426\n",
            "Epoch 38/50\n",
            "619/619 [==============================] - 46s 75ms/step - loss: nan - accuracy: 0.2384 - val_loss: nan - val_accuracy: 0.2426\n",
            "Epoch 39/50\n",
            "619/619 [==============================] - 51s 82ms/step - loss: nan - accuracy: 0.2384 - val_loss: nan - val_accuracy: 0.2426\n",
            "Epoch 40/50\n",
            "619/619 [==============================] - 45s 72ms/step - loss: nan - accuracy: 0.2384 - val_loss: nan - val_accuracy: 0.2426\n",
            "Epoch 41/50\n",
            "619/619 [==============================] - 47s 76ms/step - loss: nan - accuracy: 0.2384 - val_loss: nan - val_accuracy: 0.2426\n",
            "Epoch 42/50\n",
            "619/619 [==============================] - 47s 76ms/step - loss: nan - accuracy: 0.2384 - val_loss: nan - val_accuracy: 0.2426\n",
            "Epoch 43/50\n",
            "619/619 [==============================] - 47s 75ms/step - loss: nan - accuracy: 0.2384 - val_loss: nan - val_accuracy: 0.2426\n",
            "Epoch 44/50\n",
            "619/619 [==============================] - 47s 75ms/step - loss: nan - accuracy: 0.2384 - val_loss: nan - val_accuracy: 0.2426\n",
            "Epoch 45/50\n",
            "619/619 [==============================] - 47s 77ms/step - loss: nan - accuracy: 0.2384 - val_loss: nan - val_accuracy: 0.2426\n",
            "Epoch 46/50\n",
            "619/619 [==============================] - 47s 75ms/step - loss: nan - accuracy: 0.2384 - val_loss: nan - val_accuracy: 0.2426\n",
            "Epoch 47/50\n",
            "619/619 [==============================] - 42s 68ms/step - loss: nan - accuracy: 0.2384 - val_loss: nan - val_accuracy: 0.2426\n",
            "Epoch 48/50\n",
            "619/619 [==============================] - 37s 59ms/step - loss: nan - accuracy: 0.2384 - val_loss: nan - val_accuracy: 0.2426\n",
            "Epoch 49/50\n",
            "619/619 [==============================] - 38s 62ms/step - loss: nan - accuracy: 0.2384 - val_loss: nan - val_accuracy: 0.2426\n",
            "Epoch 50/50\n",
            "619/619 [==============================] - 37s 59ms/step - loss: nan - accuracy: 0.2384 - val_loss: nan - val_accuracy: 0.2426\n",
            "130/130 [==============================] - 5s 39ms/step - loss: nan - accuracy: 0.2357\n",
            "Test accuracy: 0.2357\n"
          ]
        }
      ]
    },
    {
      "cell_type": "markdown",
      "source": [],
      "metadata": {
        "id": "eHlEHUZq42nq"
      }
    }
  ]
}