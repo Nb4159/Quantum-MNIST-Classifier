{
  "cells": [
    {
      "cell_type": "markdown",
      "metadata": {
        "id": "view-in-github",
        "colab_type": "text"
      },
      "source": [
        "<a href=\"https://colab.research.google.com/github/Nb4159/TreeTensorMNISTClassifier/blob/main/MNIST_Classification_using_Quantum_Machine_Learning.ipynb\" target=\"_parent\"><img src=\"https://colab.research.google.com/assets/colab-badge.svg\" alt=\"Open In Colab\"/></a>"
      ]
    },
    {
      "cell_type": "markdown",
      "metadata": {
        "id": "wfUMhtOZ44H2"
      },
      "source": [
        "# Installing dependencies"
      ]
    },
    {
      "cell_type": "code",
      "execution_count": 1,
      "metadata": {
        "colab": {
          "base_uri": "https://localhost:8080/"
        },
        "id": "ZEE9V2UmRH39",
        "outputId": "c72a6891-ccba-487e-b2e3-54549703ca0b"
      },
      "outputs": [
        {
          "output_type": "stream",
          "name": "stdout",
          "text": [
            "Requirement already satisfied: tensorflow-quantum in /usr/local/lib/python3.10/dist-packages (0.7.3)\n",
            "Requirement already satisfied: cirq-core==1.3.0 in /usr/local/lib/python3.10/dist-packages (from tensorflow-quantum) (1.3.0)\n",
            "Requirement already satisfied: cirq-google==1.3.0 in /usr/local/lib/python3.10/dist-packages (from tensorflow-quantum) (1.3.0)\n",
            "Requirement already satisfied: sympy==1.12 in /usr/local/lib/python3.10/dist-packages (from tensorflow-quantum) (1.12)\n",
            "Requirement already satisfied: duet~=0.2.8 in /usr/local/lib/python3.10/dist-packages (from cirq-core==1.3.0->tensorflow-quantum) (0.2.9)\n",
            "Requirement already satisfied: matplotlib~=3.0 in /usr/local/lib/python3.10/dist-packages (from cirq-core==1.3.0->tensorflow-quantum) (3.7.1)\n",
            "Requirement already satisfied: networkx>=2.4 in /usr/local/lib/python3.10/dist-packages (from cirq-core==1.3.0->tensorflow-quantum) (3.3)\n",
            "Requirement already satisfied: numpy~=1.16 in /usr/local/lib/python3.10/dist-packages (from cirq-core==1.3.0->tensorflow-quantum) (1.25.2)\n",
            "Requirement already satisfied: pandas in /usr/local/lib/python3.10/dist-packages (from cirq-core==1.3.0->tensorflow-quantum) (2.0.3)\n",
            "Requirement already satisfied: sortedcontainers~=2.0 in /usr/local/lib/python3.10/dist-packages (from cirq-core==1.3.0->tensorflow-quantum) (2.4.0)\n",
            "Requirement already satisfied: scipy in /usr/local/lib/python3.10/dist-packages (from cirq-core==1.3.0->tensorflow-quantum) (1.11.4)\n",
            "Requirement already satisfied: typing-extensions>=4.2 in /usr/local/lib/python3.10/dist-packages (from cirq-core==1.3.0->tensorflow-quantum) (4.12.2)\n",
            "Requirement already satisfied: tqdm in /usr/local/lib/python3.10/dist-packages (from cirq-core==1.3.0->tensorflow-quantum) (4.66.4)\n",
            "Requirement already satisfied: google-api-core[grpc]>=1.14.0 in /usr/local/lib/python3.10/dist-packages (from cirq-google==1.3.0->tensorflow-quantum) (2.11.1)\n",
            "Requirement already satisfied: proto-plus>=1.20.0 in /usr/local/lib/python3.10/dist-packages (from cirq-google==1.3.0->tensorflow-quantum) (1.24.0)\n",
            "Requirement already satisfied: protobuf>=3.15.0 in /usr/local/lib/python3.10/dist-packages (from cirq-google==1.3.0->tensorflow-quantum) (3.20.3)\n",
            "Requirement already satisfied: mpmath>=0.19 in /usr/local/lib/python3.10/dist-packages (from sympy==1.12->tensorflow-quantum) (1.3.0)\n",
            "Requirement already satisfied: googleapis-common-protos<2.0.dev0,>=1.56.2 in /usr/local/lib/python3.10/dist-packages (from google-api-core[grpc]>=1.14.0->cirq-google==1.3.0->tensorflow-quantum) (1.63.1)\n",
            "Requirement already satisfied: google-auth<3.0.dev0,>=2.14.1 in /usr/local/lib/python3.10/dist-packages (from google-api-core[grpc]>=1.14.0->cirq-google==1.3.0->tensorflow-quantum) (2.27.0)\n",
            "Requirement already satisfied: requests<3.0.0.dev0,>=2.18.0 in /usr/local/lib/python3.10/dist-packages (from google-api-core[grpc]>=1.14.0->cirq-google==1.3.0->tensorflow-quantum) (2.31.0)\n",
            "Requirement already satisfied: grpcio<2.0dev,>=1.33.2 in /usr/local/lib/python3.10/dist-packages (from google-api-core[grpc]>=1.14.0->cirq-google==1.3.0->tensorflow-quantum) (1.64.1)\n",
            "Requirement already satisfied: grpcio-status<2.0.dev0,>=1.33.2 in /usr/local/lib/python3.10/dist-packages (from google-api-core[grpc]>=1.14.0->cirq-google==1.3.0->tensorflow-quantum) (1.48.2)\n",
            "Requirement already satisfied: contourpy>=1.0.1 in /usr/local/lib/python3.10/dist-packages (from matplotlib~=3.0->cirq-core==1.3.0->tensorflow-quantum) (1.2.1)\n",
            "Requirement already satisfied: cycler>=0.10 in /usr/local/lib/python3.10/dist-packages (from matplotlib~=3.0->cirq-core==1.3.0->tensorflow-quantum) (0.12.1)\n",
            "Requirement already satisfied: fonttools>=4.22.0 in /usr/local/lib/python3.10/dist-packages (from matplotlib~=3.0->cirq-core==1.3.0->tensorflow-quantum) (4.53.0)\n",
            "Requirement already satisfied: kiwisolver>=1.0.1 in /usr/local/lib/python3.10/dist-packages (from matplotlib~=3.0->cirq-core==1.3.0->tensorflow-quantum) (1.4.5)\n",
            "Requirement already satisfied: packaging>=20.0 in /usr/local/lib/python3.10/dist-packages (from matplotlib~=3.0->cirq-core==1.3.0->tensorflow-quantum) (23.2)\n",
            "Requirement already satisfied: pillow>=6.2.0 in /usr/local/lib/python3.10/dist-packages (from matplotlib~=3.0->cirq-core==1.3.0->tensorflow-quantum) (9.4.0)\n",
            "Requirement already satisfied: pyparsing>=2.3.1 in /usr/local/lib/python3.10/dist-packages (from matplotlib~=3.0->cirq-core==1.3.0->tensorflow-quantum) (3.1.2)\n",
            "Requirement already satisfied: python-dateutil>=2.7 in /usr/local/lib/python3.10/dist-packages (from matplotlib~=3.0->cirq-core==1.3.0->tensorflow-quantum) (2.8.2)\n",
            "Requirement already satisfied: pytz>=2020.1 in /usr/local/lib/python3.10/dist-packages (from pandas->cirq-core==1.3.0->tensorflow-quantum) (2023.4)\n",
            "Requirement already satisfied: tzdata>=2022.1 in /usr/local/lib/python3.10/dist-packages (from pandas->cirq-core==1.3.0->tensorflow-quantum) (2024.1)\n",
            "Requirement already satisfied: cachetools<6.0,>=2.0.0 in /usr/local/lib/python3.10/dist-packages (from google-auth<3.0.dev0,>=2.14.1->google-api-core[grpc]>=1.14.0->cirq-google==1.3.0->tensorflow-quantum) (5.3.3)\n",
            "Requirement already satisfied: pyasn1-modules>=0.2.1 in /usr/local/lib/python3.10/dist-packages (from google-auth<3.0.dev0,>=2.14.1->google-api-core[grpc]>=1.14.0->cirq-google==1.3.0->tensorflow-quantum) (0.4.0)\n",
            "Requirement already satisfied: rsa<5,>=3.1.4 in /usr/local/lib/python3.10/dist-packages (from google-auth<3.0.dev0,>=2.14.1->google-api-core[grpc]>=1.14.0->cirq-google==1.3.0->tensorflow-quantum) (4.9)\n",
            "Requirement already satisfied: six>=1.5 in /usr/local/lib/python3.10/dist-packages (from python-dateutil>=2.7->matplotlib~=3.0->cirq-core==1.3.0->tensorflow-quantum) (1.16.0)\n",
            "Requirement already satisfied: charset-normalizer<4,>=2 in /usr/local/lib/python3.10/dist-packages (from requests<3.0.0.dev0,>=2.18.0->google-api-core[grpc]>=1.14.0->cirq-google==1.3.0->tensorflow-quantum) (3.3.2)\n",
            "Requirement already satisfied: idna<4,>=2.5 in /usr/local/lib/python3.10/dist-packages (from requests<3.0.0.dev0,>=2.18.0->google-api-core[grpc]>=1.14.0->cirq-google==1.3.0->tensorflow-quantum) (3.7)\n",
            "Requirement already satisfied: urllib3<3,>=1.21.1 in /usr/local/lib/python3.10/dist-packages (from requests<3.0.0.dev0,>=2.18.0->google-api-core[grpc]>=1.14.0->cirq-google==1.3.0->tensorflow-quantum) (2.0.7)\n",
            "Requirement already satisfied: certifi>=2017.4.17 in /usr/local/lib/python3.10/dist-packages (from requests<3.0.0.dev0,>=2.18.0->google-api-core[grpc]>=1.14.0->cirq-google==1.3.0->tensorflow-quantum) (2024.6.2)\n",
            "Requirement already satisfied: pyasn1<0.7.0,>=0.4.6 in /usr/local/lib/python3.10/dist-packages (from pyasn1-modules>=0.2.1->google-auth<3.0.dev0,>=2.14.1->google-api-core[grpc]>=1.14.0->cirq-google==1.3.0->tensorflow-quantum) (0.6.0)\n"
          ]
        }
      ],
      "source": [
        "! pip install tensorflow-quantum"
      ]
    },
    {
      "cell_type": "code",
      "execution_count": 2,
      "metadata": {
        "colab": {
          "base_uri": "https://localhost:8080/"
        },
        "id": "PPMlxPkCRN3w",
        "outputId": "55ef30af-a207-4849-ba20-f2330b3eeb85"
      },
      "outputs": [
        {
          "output_type": "stream",
          "name": "stdout",
          "text": [
            "Requirement already satisfied: cirq in /usr/local/lib/python3.10/dist-packages (1.4.1)\n",
            "Requirement already satisfied: cirq-aqt==1.4.1 in /usr/local/lib/python3.10/dist-packages (from cirq) (1.4.1)\n",
            "Collecting cirq-core==1.4.1 (from cirq)\n",
            "  Using cached cirq_core-1.4.1-py3-none-any.whl (1.9 MB)\n",
            "Collecting cirq-google==1.4.1 (from cirq)\n",
            "  Using cached cirq_google-1.4.1-py3-none-any.whl (532 kB)\n",
            "Requirement already satisfied: cirq-ionq==1.4.1 in /usr/local/lib/python3.10/dist-packages (from cirq) (1.4.1)\n",
            "Requirement already satisfied: cirq-pasqal==1.4.1 in /usr/local/lib/python3.10/dist-packages (from cirq) (1.4.1)\n",
            "Requirement already satisfied: cirq-rigetti==1.4.1 in /usr/local/lib/python3.10/dist-packages (from cirq) (1.4.1)\n",
            "Requirement already satisfied: cirq-web==1.4.1 in /usr/local/lib/python3.10/dist-packages (from cirq) (1.4.1)\n",
            "Requirement already satisfied: requests~=2.18 in /usr/local/lib/python3.10/dist-packages (from cirq-aqt==1.4.1->cirq) (2.31.0)\n",
            "Requirement already satisfied: attrs>=21.3.0 in /usr/local/lib/python3.10/dist-packages (from cirq-core==1.4.1->cirq) (23.2.0)\n",
            "Requirement already satisfied: duet>=0.2.8 in /usr/local/lib/python3.10/dist-packages (from cirq-core==1.4.1->cirq) (0.2.9)\n",
            "Requirement already satisfied: matplotlib~=3.0 in /usr/local/lib/python3.10/dist-packages (from cirq-core==1.4.1->cirq) (3.7.1)\n",
            "Requirement already satisfied: networkx>=2.4 in /usr/local/lib/python3.10/dist-packages (from cirq-core==1.4.1->cirq) (3.3)\n",
            "Requirement already satisfied: numpy~=1.22 in /usr/local/lib/python3.10/dist-packages (from cirq-core==1.4.1->cirq) (1.25.2)\n",
            "Requirement already satisfied: pandas in /usr/local/lib/python3.10/dist-packages (from cirq-core==1.4.1->cirq) (2.0.3)\n",
            "Requirement already satisfied: sortedcontainers~=2.0 in /usr/local/lib/python3.10/dist-packages (from cirq-core==1.4.1->cirq) (2.4.0)\n",
            "Requirement already satisfied: scipy~=1.0 in /usr/local/lib/python3.10/dist-packages (from cirq-core==1.4.1->cirq) (1.11.4)\n",
            "Requirement already satisfied: sympy in /usr/local/lib/python3.10/dist-packages (from cirq-core==1.4.1->cirq) (1.12)\n",
            "Requirement already satisfied: typing-extensions>=4.2 in /usr/local/lib/python3.10/dist-packages (from cirq-core==1.4.1->cirq) (4.12.2)\n",
            "Requirement already satisfied: tqdm in /usr/local/lib/python3.10/dist-packages (from cirq-core==1.4.1->cirq) (4.66.4)\n",
            "Requirement already satisfied: google-api-core[grpc]>=1.14.0 in /usr/local/lib/python3.10/dist-packages (from cirq-google==1.4.1->cirq) (2.11.1)\n",
            "Requirement already satisfied: proto-plus>=1.20.0 in /usr/local/lib/python3.10/dist-packages (from cirq-google==1.4.1->cirq) (1.24.0)\n",
            "Requirement already satisfied: protobuf<5.0.0,>=3.15.0 in /usr/local/lib/python3.10/dist-packages (from cirq-google==1.4.1->cirq) (3.20.3)\n",
            "Requirement already satisfied: pyquil<5.0.0,>=4.11.0 in /usr/local/lib/python3.10/dist-packages (from cirq-rigetti==1.4.1->cirq) (4.11.0)\n",
            "Requirement already satisfied: googleapis-common-protos<2.0.dev0,>=1.56.2 in /usr/local/lib/python3.10/dist-packages (from google-api-core[grpc]>=1.14.0->cirq-google==1.4.1->cirq) (1.63.1)\n",
            "Requirement already satisfied: google-auth<3.0.dev0,>=2.14.1 in /usr/local/lib/python3.10/dist-packages (from google-api-core[grpc]>=1.14.0->cirq-google==1.4.1->cirq) (2.27.0)\n",
            "Requirement already satisfied: grpcio<2.0dev,>=1.33.2 in /usr/local/lib/python3.10/dist-packages (from google-api-core[grpc]>=1.14.0->cirq-google==1.4.1->cirq) (1.64.1)\n",
            "Requirement already satisfied: grpcio-status<2.0.dev0,>=1.33.2 in /usr/local/lib/python3.10/dist-packages (from google-api-core[grpc]>=1.14.0->cirq-google==1.4.1->cirq) (1.48.2)\n",
            "Requirement already satisfied: contourpy>=1.0.1 in /usr/local/lib/python3.10/dist-packages (from matplotlib~=3.0->cirq-core==1.4.1->cirq) (1.2.1)\n",
            "Requirement already satisfied: cycler>=0.10 in /usr/local/lib/python3.10/dist-packages (from matplotlib~=3.0->cirq-core==1.4.1->cirq) (0.12.1)\n",
            "Requirement already satisfied: fonttools>=4.22.0 in /usr/local/lib/python3.10/dist-packages (from matplotlib~=3.0->cirq-core==1.4.1->cirq) (4.53.0)\n",
            "Requirement already satisfied: kiwisolver>=1.0.1 in /usr/local/lib/python3.10/dist-packages (from matplotlib~=3.0->cirq-core==1.4.1->cirq) (1.4.5)\n",
            "Requirement already satisfied: packaging>=20.0 in /usr/local/lib/python3.10/dist-packages (from matplotlib~=3.0->cirq-core==1.4.1->cirq) (23.2)\n",
            "Requirement already satisfied: pillow>=6.2.0 in /usr/local/lib/python3.10/dist-packages (from matplotlib~=3.0->cirq-core==1.4.1->cirq) (9.4.0)\n",
            "Requirement already satisfied: pyparsing>=2.3.1 in /usr/local/lib/python3.10/dist-packages (from matplotlib~=3.0->cirq-core==1.4.1->cirq) (3.1.2)\n",
            "Requirement already satisfied: python-dateutil>=2.7 in /usr/local/lib/python3.10/dist-packages (from matplotlib~=3.0->cirq-core==1.4.1->cirq) (2.8.2)\n",
            "Requirement already satisfied: deprecated<2.0.0,>=1.2.14 in /usr/local/lib/python3.10/dist-packages (from pyquil<5.0.0,>=4.11.0->cirq-rigetti==1.4.1->cirq) (1.2.14)\n",
            "Requirement already satisfied: matplotlib-inline<0.2.0,>=0.1.7 in /usr/local/lib/python3.10/dist-packages (from pyquil<5.0.0,>=4.11.0->cirq-rigetti==1.4.1->cirq) (0.1.7)\n",
            "Requirement already satisfied: qcs-sdk-python==0.17.9 in /usr/local/lib/python3.10/dist-packages (from pyquil<5.0.0,>=4.11.0->cirq-rigetti==1.4.1->cirq) (0.17.9)\n",
            "Requirement already satisfied: rpcq<4.0.0,>=3.11.0 in /usr/local/lib/python3.10/dist-packages (from pyquil<5.0.0,>=4.11.0->cirq-rigetti==1.4.1->cirq) (3.11.0)\n",
            "Requirement already satisfied: types-deprecated<2.0.0.0,>=1.2.9.3 in /usr/local/lib/python3.10/dist-packages (from pyquil<5.0.0,>=4.11.0->cirq-rigetti==1.4.1->cirq) (1.2.9.20240311)\n",
            "Requirement already satisfied: quil==0.10.0 in /usr/local/lib/python3.10/dist-packages (from qcs-sdk-python==0.17.9->pyquil<5.0.0,>=4.11.0->cirq-rigetti==1.4.1->cirq) (0.10.0)\n",
            "Requirement already satisfied: charset-normalizer<4,>=2 in /usr/local/lib/python3.10/dist-packages (from requests~=2.18->cirq-aqt==1.4.1->cirq) (3.3.2)\n",
            "Requirement already satisfied: idna<4,>=2.5 in /usr/local/lib/python3.10/dist-packages (from requests~=2.18->cirq-aqt==1.4.1->cirq) (3.7)\n",
            "Requirement already satisfied: urllib3<3,>=1.21.1 in /usr/local/lib/python3.10/dist-packages (from requests~=2.18->cirq-aqt==1.4.1->cirq) (2.0.7)\n",
            "Requirement already satisfied: certifi>=2017.4.17 in /usr/local/lib/python3.10/dist-packages (from requests~=2.18->cirq-aqt==1.4.1->cirq) (2024.6.2)\n",
            "Requirement already satisfied: pytz>=2020.1 in /usr/local/lib/python3.10/dist-packages (from pandas->cirq-core==1.4.1->cirq) (2023.4)\n",
            "Requirement already satisfied: tzdata>=2022.1 in /usr/local/lib/python3.10/dist-packages (from pandas->cirq-core==1.4.1->cirq) (2024.1)\n",
            "Requirement already satisfied: mpmath>=0.19 in /usr/local/lib/python3.10/dist-packages (from sympy->cirq-core==1.4.1->cirq) (1.3.0)\n",
            "Requirement already satisfied: wrapt<2,>=1.10 in /usr/local/lib/python3.10/dist-packages (from deprecated<2.0.0,>=1.2.14->pyquil<5.0.0,>=4.11.0->cirq-rigetti==1.4.1->cirq) (1.14.1)\n",
            "Requirement already satisfied: cachetools<6.0,>=2.0.0 in /usr/local/lib/python3.10/dist-packages (from google-auth<3.0.dev0,>=2.14.1->google-api-core[grpc]>=1.14.0->cirq-google==1.4.1->cirq) (5.3.3)\n",
            "Requirement already satisfied: pyasn1-modules>=0.2.1 in /usr/local/lib/python3.10/dist-packages (from google-auth<3.0.dev0,>=2.14.1->google-api-core[grpc]>=1.14.0->cirq-google==1.4.1->cirq) (0.4.0)\n",
            "Requirement already satisfied: rsa<5,>=3.1.4 in /usr/local/lib/python3.10/dist-packages (from google-auth<3.0.dev0,>=2.14.1->google-api-core[grpc]>=1.14.0->cirq-google==1.4.1->cirq) (4.9)\n",
            "Requirement already satisfied: traitlets in /usr/local/lib/python3.10/dist-packages (from matplotlib-inline<0.2.0,>=0.1.7->pyquil<5.0.0,>=4.11.0->cirq-rigetti==1.4.1->cirq) (5.7.1)\n",
            "Requirement already satisfied: six>=1.5 in /usr/local/lib/python3.10/dist-packages (from python-dateutil>=2.7->matplotlib~=3.0->cirq-core==1.4.1->cirq) (1.16.0)\n",
            "Requirement already satisfied: msgpack<2.0,>=0.6 in /usr/local/lib/python3.10/dist-packages (from rpcq<4.0.0,>=3.11.0->pyquil<5.0.0,>=4.11.0->cirq-rigetti==1.4.1->cirq) (1.0.8)\n",
            "Requirement already satisfied: python-rapidjson in /usr/local/lib/python3.10/dist-packages (from rpcq<4.0.0,>=3.11.0->pyquil<5.0.0,>=4.11.0->cirq-rigetti==1.4.1->cirq) (1.18)\n",
            "Requirement already satisfied: pyzmq>=17 in /usr/local/lib/python3.10/dist-packages (from rpcq<4.0.0,>=3.11.0->pyquil<5.0.0,>=4.11.0->cirq-rigetti==1.4.1->cirq) (24.0.1)\n",
            "Requirement already satisfied: ruamel.yaml in /usr/local/lib/python3.10/dist-packages (from rpcq<4.0.0,>=3.11.0->pyquil<5.0.0,>=4.11.0->cirq-rigetti==1.4.1->cirq) (0.18.6)\n",
            "Requirement already satisfied: pyasn1<0.7.0,>=0.4.6 in /usr/local/lib/python3.10/dist-packages (from pyasn1-modules>=0.2.1->google-auth<3.0.dev0,>=2.14.1->google-api-core[grpc]>=1.14.0->cirq-google==1.4.1->cirq) (0.6.0)\n",
            "Requirement already satisfied: ruamel.yaml.clib>=0.2.7 in /usr/local/lib/python3.10/dist-packages (from ruamel.yaml->rpcq<4.0.0,>=3.11.0->pyquil<5.0.0,>=4.11.0->cirq-rigetti==1.4.1->cirq) (0.2.8)\n",
            "Installing collected packages: cirq-core, cirq-google\n",
            "  Attempting uninstall: cirq-core\n",
            "    Found existing installation: cirq-core 1.3.0\n",
            "    Uninstalling cirq-core-1.3.0:\n",
            "      Successfully uninstalled cirq-core-1.3.0\n",
            "  Attempting uninstall: cirq-google\n",
            "    Found existing installation: cirq-google 1.3.0\n",
            "    Uninstalling cirq-google-1.3.0:\n",
            "      Successfully uninstalled cirq-google-1.3.0\n",
            "\u001b[31mERROR: pip's dependency resolver does not currently take into account all the packages that are installed. This behaviour is the source of the following dependency conflicts.\n",
            "tensorflow-quantum 0.7.3 requires cirq-core==1.3.0, but you have cirq-core 1.4.1 which is incompatible.\n",
            "tensorflow-quantum 0.7.3 requires cirq-google==1.3.0, but you have cirq-google 1.4.1 which is incompatible.\u001b[0m\u001b[31m\n",
            "\u001b[0mSuccessfully installed cirq-core-1.4.1 cirq-google-1.4.1\n"
          ]
        }
      ],
      "source": [
        "!pip install cirq"
      ]
    },
    {
      "cell_type": "markdown",
      "metadata": {
        "id": "9A5AZlT3BNbm"
      },
      "source": [
        "# Data"
      ]
    },
    {
      "cell_type": "code",
      "execution_count": 3,
      "metadata": {
        "colab": {
          "base_uri": "https://localhost:8080/"
        },
        "id": "lEthMTOFRShH",
        "outputId": "54f91433-b7e2-4155-c696-ca21129a23bf"
      },
      "outputs": [
        {
          "output_type": "execute_result",
          "data": {
            "text/plain": [
              "array([[0.6575422 , 0.5113609 , 0.15022027, ..., 0.52433723, 0.3400782 ,\n",
              "        0.468922  ],\n",
              "       [0.08702649, 0.66288257, 0.42998007, ..., 0.50262123, 0.5097608 ,\n",
              "        0.42599776],\n",
              "       [0.3944188 , 0.74505955, 0.47534764, ..., 0.39494434, 0.706673  ,\n",
              "        0.47034067],\n",
              "       ...,\n",
              "       [0.30617657, 0.8178096 , 0.28421837, ..., 0.19113496, 0.43874547,\n",
              "        0.39723587],\n",
              "       [0.09423779, 0.5708636 , 0.31920433, ..., 0.30451584, 0.46896046,\n",
              "        0.37133288],\n",
              "       [0.3725143 , 0.49605983, 0.61925894, ..., 0.18966365, 0.3179507 ,\n",
              "        0.69953877]], dtype=float32)"
            ]
          },
          "metadata": {},
          "execution_count": 3
        }
      ],
      "source": [
        "import tensorflow as tf\n",
        "import tensorflow_quantum as tfq\n",
        "import cirq\n",
        "import sympy\n",
        "import numpy as np\n",
        "from sklearn.decomposition import PCA\n",
        "from sklearn.preprocessing import MinMaxScaler\n",
        "from tensorflow.keras.datasets import mnist\n",
        "\n",
        "(x_train, y_train), (x_test, y_test) = mnist.load_data()\n",
        "\n",
        "# Here I keep only digits 0-3\n",
        "train_mask = (y_train < 4)\n",
        "test_mask = (y_test < 4)\n",
        "x_train, y_train = x_train[train_mask], y_train[train_mask]\n",
        "x_test, y_test = x_test[test_mask], y_test[test_mask]\n",
        "x_train = x_train.reshape(-1, 784).astype('float32') / 255.0\n",
        "x_test = x_test.reshape(-1, 784).astype('float32') / 255.0\n",
        "\n",
        "# Dimensionality reduction using PCA\n",
        "pca = PCA(n_components=8)\n",
        "x_train_pca = pca.fit_transform(x_train)\n",
        "x_test_pca = pca.transform(x_test)\n",
        "\n",
        "# Scale features\n",
        "scaler = MinMaxScaler()\n",
        "x_train_scaled = scaler.fit_transform(x_train_pca)\n",
        "x_test_scaled = scaler.transform(x_test_pca)\n",
        "\n",
        "x_train_scaled\n",
        "\n"
      ]
    },
    {
      "cell_type": "markdown",
      "metadata": {
        "id": "bLD18nn55JIk"
      },
      "source": [
        "# Amplitude Encoding\n",
        "This is like making an embedding to feed data to the classifier in appropriate way. Amplitude Encoding encodes 2^n features into amplitude vector of n qubits."
      ]
    },
    {
      "cell_type": "markdown",
      "metadata": {
        "id": "zdK-WLU39SWe"
      },
      "source": [
        "# Tree Tensor Network[(TTN)](https://https://arxiv.org/abs/1803.11537)\n",
        "TTNs are a type of tensor network that organizes tensors in a tree-like structure. They're used to represent quantum states efficiently.\n",
        "Some of its features are:\n",
        "\n",
        "**Hierarchical structure**: Information flows from the bottom (input) to the top (output).\n",
        "\n",
        "**Logarithmic depth**: The number of layers scales logarithmically with the number of input qubits.\n",
        "\n",
        "**Entanglement structure**: TTNs can capture short-range entanglement well but may struggle with long-range entanglement.\n",
        "\n"
      ]
    },
    {
      "cell_type": "code",
      "execution_count": 4,
      "metadata": {
        "colab": {
          "base_uri": "https://localhost:8080/"
        },
        "id": "s9TOypllRqvl",
        "outputId": "7d69a417-0c71-4f4d-b6df-6dd6c8d194a6"
      },
      "outputs": [
        {
          "output_type": "stream",
          "name": "stderr",
          "text": [
            "<ipython-input-4-d66c714e080e>:6: RuntimeWarning: invalid value encountered in arccos\n",
            "  circuit.append(cirq.ry(np.arccos(feature) * 2)(qubits[i]))\n"
          ]
        }
      ],
      "source": [
        "# Amplitude encoding\n",
        "def amplitude_encode(features):\n",
        "    qubits = cirq.GridQubit.rect(1, 8)\n",
        "    circuit = cirq.Circuit()\n",
        "    for i, feature in enumerate(features):\n",
        "        circuit.append(cirq.ry(np.arccos(feature) * 2)(qubits[i]))\n",
        "    return circuit\n",
        "\n",
        "x_train_circuits = [amplitude_encode(x) for x in x_train_scaled]\n",
        "x_test_circuits = [amplitude_encode(x) for x in x_test_scaled]\n",
        "\n",
        "# Define the TTN model\n",
        "def create_ttn_model():\n",
        "    qubits = cirq.GridQubit.rect(1, 8)\n",
        "    circuit = cirq.Circuit()\n",
        "\n",
        "    # First layer\n",
        "    for i in range(0, 8, 2):\n",
        "        circuit.append(cirq.CNOT(qubits[i], qubits[i+1]))\n",
        "        circuit.append(cirq.ry(sympy.Symbol(f'θ_{i}'))(qubits[i]))\n",
        "        circuit.append(cirq.ry(sympy.Symbol(f'θ_{i+1}'))(qubits[i+1]))\n",
        "\n",
        "    # Second layer\n",
        "    for i in range(0, 8, 4):\n",
        "        circuit.append(cirq.CNOT(qubits[i], qubits[i+2]))\n",
        "        circuit.append(cirq.ry(sympy.Symbol(f'θ_{i+8}'))(qubits[i]))\n",
        "        circuit.append(cirq.ry(sympy.Symbol(f'θ_{i+9}'))(qubits[i+2]))\n",
        "\n",
        "    # Third layer\n",
        "    circuit.append(cirq.CNOT(qubits[0], qubits[4]))\n",
        "    circuit.append(cirq.ry(sympy.Symbol('θ_16'))(qubits[0]))\n",
        "    circuit.append(cirq.ry(sympy.Symbol('θ_17'))(qubits[4]))\n",
        "\n",
        "    # Measurement\n",
        "    circuit.append(cirq.measure(qubits[0], qubits[4], key='m'))\n",
        "\n",
        "    readout_ops = [cirq.Z(qubits[0]), cirq.Z(qubits[4])]  # Readout operators\n",
        "\n",
        "    pqc = tfq.layers.PQC(circuit, readout_ops)\n",
        "    input_tensor = tf.keras.Input(shape=(), dtype=tf.string)\n",
        "    output = pqc(input_tensor)\n",
        "    output = tf.keras.layers.Dense(4, activation='softmax')(output)  # 4 output classes\n",
        "\n",
        "    model = tf.keras.Model(inputs=[input_tensor], outputs=[output])\n",
        "\n",
        "    return model, circuit\n",
        "\n",
        "ttn_model,qc = create_ttn_model()\n",
        "optimizer = tf.keras.optimizers.Adam(learning_rate=0.01)\n",
        "loss = tf.keras.losses.SparseCategoricalCrossentropy(from_logits=True)\n",
        "ttn_model.compile(optimizer=optimizer, loss=loss, metrics=['accuracy'])\n",
        "\n",
        "\n"
      ]
    },
    {
      "cell_type": "code",
      "execution_count": 5,
      "metadata": {
        "colab": {
          "base_uri": "https://localhost:8080/"
        },
        "id": "YmiB6FveUrAa",
        "outputId": "ec4e6643-0ae1-4b46-ede5-3de1cf59c858"
      },
      "outputs": [
        {
          "output_type": "stream",
          "name": "stdout",
          "text": [
            "(0, 0): ───@───Ry(θ_0)───@───Ry(θ_8)────@───Ry(θ_16)───M('m')───\n",
            "           │             │              │              │\n",
            "(0, 1): ───X───Ry(θ_1)───┼──────────────┼──────────────┼────────\n",
            "                         │              │              │\n",
            "(0, 2): ───@───Ry(θ_2)───X───Ry(θ_9)────┼──────────────┼────────\n",
            "           │                            │              │\n",
            "(0, 3): ───X───Ry(θ_3)──────────────────┼──────────────┼────────\n",
            "                                        │              │\n",
            "(0, 4): ───@───Ry(θ_4)───@───Ry(θ_12)───X───Ry(θ_17)───M────────\n",
            "           │             │\n",
            "(0, 5): ───X───Ry(θ_5)───┼──────────────────────────────────────\n",
            "                         │\n",
            "(0, 6): ───@───Ry(θ_6)───X───Ry(θ_13)───────────────────────────\n",
            "           │\n",
            "(0, 7): ───X───Ry(θ_7)──────────────────────────────────────────\n"
          ]
        }
      ],
      "source": [
        "from tensorflow.keras.utils import plot_model\n",
        "import os\n",
        "plot_model(ttn_model, to_file='ttn_model.png', show_shapes=True, show_layer_names=True)\n",
        "\n",
        "circuit_diagram = cirq.Circuit(qc)\n",
        "print(circuit_diagram)\n"
      ]
    },
    {
      "cell_type": "markdown",
      "metadata": {
        "id": "o01sHVB6AcjE"
      },
      "source": [
        "As we can see our neural network is in the form of a tree."
      ]
    },
    {
      "cell_type": "code",
      "execution_count": 6,
      "metadata": {
        "colab": {
          "base_uri": "https://localhost:8080/"
        },
        "id": "s5V4BPCAS4Wi",
        "outputId": "21dd1833-9bb1-4287-df8e-1dc58d1adf17"
      },
      "outputs": [
        {
          "output_type": "stream",
          "name": "stdout",
          "text": [
            "Epoch 1/50\n"
          ]
        },
        {
          "output_type": "stream",
          "name": "stderr",
          "text": [
            "/usr/local/lib/python3.10/dist-packages/keras/src/backend.py:5727: UserWarning: \"`sparse_categorical_crossentropy` received `from_logits=True`, but the `output` argument was produced by a Softmax activation and thus does not represent logits. Was this intended?\n",
            "  output, from_logits = _get_logits(\n"
          ]
        },
        {
          "output_type": "stream",
          "name": "stdout",
          "text": [
            "619/619 [==============================] - 68s 104ms/step - loss: 0.9341 - accuracy: 0.6299 - val_loss: 0.7190 - val_accuracy: 0.7613\n",
            "Epoch 2/50\n",
            "619/619 [==============================] - 63s 101ms/step - loss: 0.6615 - accuracy: 0.7569 - val_loss: 0.6064 - val_accuracy: 0.7786\n",
            "Epoch 3/50\n",
            "619/619 [==============================] - 61s 99ms/step - loss: 0.6016 - accuracy: 0.7681 - val_loss: 0.5711 - val_accuracy: 0.7978\n",
            "Epoch 4/50\n",
            "619/619 [==============================] - 64s 103ms/step - loss: 0.5735 - accuracy: 0.7718 - val_loss: 0.5466 - val_accuracy: 0.7861\n",
            "Epoch 5/50\n",
            "619/619 [==============================] - 57s 93ms/step - loss: 0.5572 - accuracy: 0.7760 - val_loss: 0.5305 - val_accuracy: 0.7930\n",
            "Epoch 6/50\n",
            "619/619 [==============================] - 61s 99ms/step - loss: 0.5491 - accuracy: 0.7764 - val_loss: 0.5327 - val_accuracy: 0.7837\n",
            "Epoch 7/50\n",
            "619/619 [==============================] - 61s 99ms/step - loss: 0.5395 - accuracy: 0.7798 - val_loss: 0.5188 - val_accuracy: 0.7950\n",
            "Epoch 8/50\n",
            "619/619 [==============================] - 60s 98ms/step - loss: 0.5346 - accuracy: 0.7815 - val_loss: 0.5087 - val_accuracy: 0.8049\n",
            "Epoch 9/50\n",
            "619/619 [==============================] - 63s 101ms/step - loss: 0.5279 - accuracy: 0.7840 - val_loss: 0.5056 - val_accuracy: 0.8027\n",
            "Epoch 10/50\n",
            "619/619 [==============================] - 63s 102ms/step - loss: 0.5262 - accuracy: 0.7843 - val_loss: 0.5033 - val_accuracy: 0.7944\n",
            "Epoch 11/50\n",
            "619/619 [==============================] - 62s 100ms/step - loss: 0.5208 - accuracy: 0.7865 - val_loss: 0.4955 - val_accuracy: 0.8087\n",
            "Epoch 12/50\n",
            "619/619 [==============================] - 60s 97ms/step - loss: 0.5189 - accuracy: 0.7894 - val_loss: 0.4973 - val_accuracy: 0.7996\n",
            "Epoch 13/50\n",
            "619/619 [==============================] - 62s 99ms/step - loss: 0.5145 - accuracy: 0.7927 - val_loss: 0.4867 - val_accuracy: 0.8146\n",
            "Epoch 14/50\n",
            "619/619 [==============================] - 59s 96ms/step - loss: 0.5132 - accuracy: 0.7924 - val_loss: 0.4887 - val_accuracy: 0.8111\n",
            "Epoch 15/50\n",
            "619/619 [==============================] - 61s 99ms/step - loss: 0.5098 - accuracy: 0.7974 - val_loss: 0.4862 - val_accuracy: 0.8071\n",
            "Epoch 16/50\n",
            "619/619 [==============================] - 65s 105ms/step - loss: 0.5088 - accuracy: 0.7977 - val_loss: 0.4835 - val_accuracy: 0.8140\n",
            "Epoch 17/50\n",
            "619/619 [==============================] - 58s 94ms/step - loss: 0.5060 - accuracy: 0.7997 - val_loss: 0.4808 - val_accuracy: 0.8146\n",
            "Epoch 18/50\n",
            "619/619 [==============================] - 63s 101ms/step - loss: 0.5053 - accuracy: 0.8010 - val_loss: 0.4867 - val_accuracy: 0.8188\n",
            "Epoch 19/50\n",
            "619/619 [==============================] - 61s 99ms/step - loss: 0.5047 - accuracy: 0.8010 - val_loss: 0.4853 - val_accuracy: 0.8085\n",
            "Epoch 20/50\n",
            "619/619 [==============================] - 60s 97ms/step - loss: 0.5027 - accuracy: 0.8009 - val_loss: 0.4843 - val_accuracy: 0.8023\n",
            "Epoch 21/50\n",
            "619/619 [==============================] - 59s 95ms/step - loss: 0.5023 - accuracy: 0.8042 - val_loss: 0.4721 - val_accuracy: 0.8223\n",
            "Epoch 22/50\n",
            "619/619 [==============================] - 57s 93ms/step - loss: 0.5007 - accuracy: 0.8054 - val_loss: 0.4778 - val_accuracy: 0.8154\n",
            "Epoch 23/50\n",
            "619/619 [==============================] - 64s 104ms/step - loss: 0.4996 - accuracy: 0.8047 - val_loss: 0.4979 - val_accuracy: 0.8029\n",
            "Epoch 24/50\n",
            "619/619 [==============================] - 61s 99ms/step - loss: 0.4988 - accuracy: 0.8044 - val_loss: 0.4700 - val_accuracy: 0.8186\n",
            "Epoch 25/50\n",
            "619/619 [==============================] - 60s 97ms/step - loss: 0.4987 - accuracy: 0.8031 - val_loss: 0.4812 - val_accuracy: 0.7950\n",
            "Epoch 26/50\n",
            "619/619 [==============================] - 58s 94ms/step - loss: 0.4966 - accuracy: 0.8052 - val_loss: 0.4798 - val_accuracy: 0.8134\n",
            "Epoch 27/50\n",
            "619/619 [==============================] - 58s 94ms/step - loss: 0.4970 - accuracy: 0.8060 - val_loss: 0.4756 - val_accuracy: 0.8136\n",
            "Epoch 28/50\n",
            "619/619 [==============================] - 61s 99ms/step - loss: 0.4994 - accuracy: 0.8049 - val_loss: 0.4668 - val_accuracy: 0.8186\n",
            "Epoch 29/50\n",
            "619/619 [==============================] - 60s 96ms/step - loss: 0.4958 - accuracy: 0.8109 - val_loss: 0.4774 - val_accuracy: 0.8196\n",
            "Epoch 30/50\n",
            "619/619 [==============================] - 58s 94ms/step - loss: 0.4959 - accuracy: 0.8078 - val_loss: 0.4715 - val_accuracy: 0.8116\n",
            "Epoch 31/50\n",
            "619/619 [==============================] - 60s 97ms/step - loss: 0.4967 - accuracy: 0.8074 - val_loss: 0.4788 - val_accuracy: 0.7976\n",
            "Epoch 32/50\n",
            "619/619 [==============================] - 62s 100ms/step - loss: 0.4943 - accuracy: 0.8095 - val_loss: 0.4707 - val_accuracy: 0.8208\n",
            "Epoch 33/50\n",
            "619/619 [==============================] - 59s 95ms/step - loss: 0.4964 - accuracy: 0.8091 - val_loss: 0.4807 - val_accuracy: 0.7958\n",
            "Epoch 34/50\n",
            "619/619 [==============================] - 62s 100ms/step - loss: 0.4930 - accuracy: 0.8104 - val_loss: 0.4658 - val_accuracy: 0.8215\n",
            "Epoch 35/50\n",
            "619/619 [==============================] - 59s 96ms/step - loss: 0.4935 - accuracy: 0.8103 - val_loss: 0.4630 - val_accuracy: 0.8295\n",
            "Epoch 36/50\n",
            "619/619 [==============================] - 61s 98ms/step - loss: 0.4924 - accuracy: 0.8123 - val_loss: 0.4781 - val_accuracy: 0.8033\n",
            "Epoch 37/50\n",
            "619/619 [==============================] - 61s 99ms/step - loss: 0.4940 - accuracy: 0.8103 - val_loss: 0.4616 - val_accuracy: 0.8295\n",
            "Epoch 38/50\n",
            "619/619 [==============================] - 64s 103ms/step - loss: 0.4944 - accuracy: 0.8107 - val_loss: 0.4663 - val_accuracy: 0.8200\n",
            "Epoch 39/50\n",
            "619/619 [==============================] - 62s 101ms/step - loss: 0.4939 - accuracy: 0.8120 - val_loss: 0.4638 - val_accuracy: 0.8299\n",
            "Epoch 40/50\n",
            "619/619 [==============================] - 56s 90ms/step - loss: 0.4935 - accuracy: 0.8086 - val_loss: 0.4709 - val_accuracy: 0.8144\n",
            "Epoch 41/50\n",
            "619/619 [==============================] - 55s 90ms/step - loss: 0.4931 - accuracy: 0.8099 - val_loss: 0.4645 - val_accuracy: 0.8196\n",
            "Epoch 42/50\n",
            "619/619 [==============================] - 59s 96ms/step - loss: 0.4931 - accuracy: 0.8081 - val_loss: 0.4576 - val_accuracy: 0.8342\n",
            "Epoch 43/50\n",
            "619/619 [==============================] - 60s 96ms/step - loss: 0.4905 - accuracy: 0.8128 - val_loss: 0.4573 - val_accuracy: 0.8346\n",
            "Epoch 44/50\n",
            "619/619 [==============================] - 59s 95ms/step - loss: 0.4928 - accuracy: 0.8092 - val_loss: 0.4635 - val_accuracy: 0.8255\n",
            "Epoch 45/50\n",
            "619/619 [==============================] - 59s 95ms/step - loss: 0.4937 - accuracy: 0.8094 - val_loss: 0.4798 - val_accuracy: 0.7980\n",
            "Epoch 46/50\n",
            "619/619 [==============================] - 56s 90ms/step - loss: 0.4914 - accuracy: 0.8106 - val_loss: 0.4630 - val_accuracy: 0.8210\n",
            "Epoch 47/50\n",
            "619/619 [==============================] - 61s 98ms/step - loss: 0.4923 - accuracy: 0.8100 - val_loss: 0.4591 - val_accuracy: 0.8259\n",
            "Epoch 48/50\n",
            "619/619 [==============================] - 58s 94ms/step - loss: 0.4922 - accuracy: 0.8099 - val_loss: 0.4578 - val_accuracy: 0.8344\n",
            "Epoch 49/50\n",
            "619/619 [==============================] - 56s 90ms/step - loss: 0.4910 - accuracy: 0.8103 - val_loss: 0.4570 - val_accuracy: 0.8354\n",
            "Epoch 50/50\n",
            "619/619 [==============================] - 58s 94ms/step - loss: 0.4888 - accuracy: 0.8129 - val_loss: 0.4634 - val_accuracy: 0.8344\n",
            "130/130 [==============================] - 8s 58ms/step - loss: nan - accuracy: 0.8217\n",
            "Test accuracy: 0.8217\n"
          ]
        }
      ],
      "source": [
        "x_train_tfq = tfq.convert_to_tensor(x_train_circuits)\n",
        "x_test_tfq = tfq.convert_to_tensor(x_test_circuits)\n",
        "\n",
        "history = ttn_model.fit(\n",
        "    x_train_tfq, y_train,\n",
        "    batch_size=32,\n",
        "    epochs=50,\n",
        "    validation_split=0.2,\n",
        "    verbose=1\n",
        ")\n",
        "\n",
        "\n",
        "test_loss, test_accuracy = ttn_model.evaluate(x_test_tfq, y_test)\n",
        "print(f\"Test accuracy: {test_accuracy:.4f}\")"
      ]
    },
    {
      "cell_type": "markdown",
      "metadata": {
        "id": "eHlEHUZq42nq"
      },
      "source": []
    }
  ],
  "metadata": {
    "colab": {
      "provenance": [],
      "authorship_tag": "ABX9TyPeeDktaE88AXoOjZRSG/AM",
      "include_colab_link": true
    },
    "kernelspec": {
      "display_name": "Python 3",
      "name": "python3"
    },
    "language_info": {
      "name": "python"
    }
  },
  "nbformat": 4,
  "nbformat_minor": 0
}